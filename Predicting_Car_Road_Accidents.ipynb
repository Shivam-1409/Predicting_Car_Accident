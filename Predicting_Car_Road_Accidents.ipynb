{
  "cells": [
    {
      "cell_type": "markdown",
      "metadata": {
        "id": "fgeHBAxgrjB4"
      },
      "source": [
        "### Importing Necessary Libraries and data"
      ]
    },
    {
      "cell_type": "code",
      "execution_count": 69,
      "metadata": {
        "id": "jK4NNI7hV-h2"
      },
      "outputs": [
        {
          "name": "stdout",
          "output_type": "stream",
          "text": [
            "1.7.2\n"
          ]
        }
      ],
      "source": [
        "import sklearn\n",
        "print(sklearn.__version__)\n",
        "import numpy as np\n",
        "import pandas as pd\n",
        "import matplotlib.pyplot as plt\n",
        "import seaborn as sns\n",
        "from sklearn.preprocessing import OrdinalEncoder\n",
        "from sklearn.model_selection import train_test_split\n",
        "from sklearn.compose import ColumnTransformer\n",
        "from sklearn.pipeline import Pipeline\n",
        "import joblib"
      ]
    },
    {
      "cell_type": "code",
      "execution_count": 70,
      "metadata": {
        "colab": {
          "base_uri": "https://localhost:8080/",
          "height": 206
        },
        "id": "opYme2R9VcR4",
        "outputId": "60ee8946-3eba-4aca-9d8c-81628ddc5d03"
      },
      "outputs": [
        {
          "data": {
            "text/html": [
              "<div>\n",
              "<style scoped>\n",
              "    .dataframe tbody tr th:only-of-type {\n",
              "        vertical-align: middle;\n",
              "    }\n",
              "\n",
              "    .dataframe tbody tr th {\n",
              "        vertical-align: top;\n",
              "    }\n",
              "\n",
              "    .dataframe thead th {\n",
              "        text-align: right;\n",
              "    }\n",
              "</style>\n",
              "<table border=\"1\" class=\"dataframe\">\n",
              "  <thead>\n",
              "    <tr style=\"text-align: right;\">\n",
              "      <th></th>\n",
              "      <th>id</th>\n",
              "      <th>road_type</th>\n",
              "      <th>num_lanes</th>\n",
              "      <th>curvature</th>\n",
              "      <th>speed_limit</th>\n",
              "      <th>lighting</th>\n",
              "      <th>weather</th>\n",
              "      <th>road_signs_present</th>\n",
              "      <th>public_road</th>\n",
              "      <th>time_of_day</th>\n",
              "      <th>holiday</th>\n",
              "      <th>school_season</th>\n",
              "      <th>num_reported_accidents</th>\n",
              "      <th>accident_risk</th>\n",
              "    </tr>\n",
              "  </thead>\n",
              "  <tbody>\n",
              "    <tr>\n",
              "      <th>0</th>\n",
              "      <td>0</td>\n",
              "      <td>urban</td>\n",
              "      <td>2</td>\n",
              "      <td>0.06</td>\n",
              "      <td>35</td>\n",
              "      <td>daylight</td>\n",
              "      <td>rainy</td>\n",
              "      <td>False</td>\n",
              "      <td>True</td>\n",
              "      <td>afternoon</td>\n",
              "      <td>False</td>\n",
              "      <td>True</td>\n",
              "      <td>1</td>\n",
              "      <td>0.13</td>\n",
              "    </tr>\n",
              "    <tr>\n",
              "      <th>1</th>\n",
              "      <td>1</td>\n",
              "      <td>urban</td>\n",
              "      <td>4</td>\n",
              "      <td>0.99</td>\n",
              "      <td>35</td>\n",
              "      <td>daylight</td>\n",
              "      <td>clear</td>\n",
              "      <td>True</td>\n",
              "      <td>False</td>\n",
              "      <td>evening</td>\n",
              "      <td>True</td>\n",
              "      <td>True</td>\n",
              "      <td>0</td>\n",
              "      <td>0.35</td>\n",
              "    </tr>\n",
              "    <tr>\n",
              "      <th>2</th>\n",
              "      <td>2</td>\n",
              "      <td>rural</td>\n",
              "      <td>4</td>\n",
              "      <td>0.63</td>\n",
              "      <td>70</td>\n",
              "      <td>dim</td>\n",
              "      <td>clear</td>\n",
              "      <td>False</td>\n",
              "      <td>True</td>\n",
              "      <td>morning</td>\n",
              "      <td>True</td>\n",
              "      <td>False</td>\n",
              "      <td>2</td>\n",
              "      <td>0.30</td>\n",
              "    </tr>\n",
              "    <tr>\n",
              "      <th>3</th>\n",
              "      <td>3</td>\n",
              "      <td>highway</td>\n",
              "      <td>4</td>\n",
              "      <td>0.07</td>\n",
              "      <td>35</td>\n",
              "      <td>dim</td>\n",
              "      <td>rainy</td>\n",
              "      <td>True</td>\n",
              "      <td>True</td>\n",
              "      <td>morning</td>\n",
              "      <td>False</td>\n",
              "      <td>False</td>\n",
              "      <td>1</td>\n",
              "      <td>0.21</td>\n",
              "    </tr>\n",
              "    <tr>\n",
              "      <th>4</th>\n",
              "      <td>4</td>\n",
              "      <td>rural</td>\n",
              "      <td>1</td>\n",
              "      <td>0.58</td>\n",
              "      <td>60</td>\n",
              "      <td>daylight</td>\n",
              "      <td>foggy</td>\n",
              "      <td>False</td>\n",
              "      <td>False</td>\n",
              "      <td>evening</td>\n",
              "      <td>True</td>\n",
              "      <td>False</td>\n",
              "      <td>1</td>\n",
              "      <td>0.56</td>\n",
              "    </tr>\n",
              "  </tbody>\n",
              "</table>\n",
              "</div>"
            ],
            "text/plain": [
              "   id road_type  num_lanes  curvature  speed_limit  lighting weather  \\\n",
              "0   0     urban          2       0.06           35  daylight   rainy   \n",
              "1   1     urban          4       0.99           35  daylight   clear   \n",
              "2   2     rural          4       0.63           70       dim   clear   \n",
              "3   3   highway          4       0.07           35       dim   rainy   \n",
              "4   4     rural          1       0.58           60  daylight   foggy   \n",
              "\n",
              "   road_signs_present  public_road time_of_day  holiday  school_season  \\\n",
              "0               False         True   afternoon    False           True   \n",
              "1                True        False     evening     True           True   \n",
              "2               False         True     morning     True          False   \n",
              "3                True         True     morning    False          False   \n",
              "4               False        False     evening     True          False   \n",
              "\n",
              "   num_reported_accidents  accident_risk  \n",
              "0                       1           0.13  \n",
              "1                       0           0.35  \n",
              "2                       2           0.30  \n",
              "3                       1           0.21  \n",
              "4                       1           0.56  "
            ]
          },
          "execution_count": 70,
          "metadata": {},
          "output_type": "execute_result"
        }
      ],
      "source": [
        "file_path = 'train.csv'\n",
        "\n",
        "train_df = pd.read_csv(file_path)\n",
        "\n",
        "train_df.head(5)"
      ]
    },
    {
      "cell_type": "markdown",
      "metadata": {
        "id": "iagjD8ytrqSK"
      },
      "source": [
        "### Data Cleaning and EDA"
      ]
    },
    {
      "cell_type": "code",
      "execution_count": 71,
      "metadata": {
        "colab": {
          "base_uri": "https://localhost:8080/"
        },
        "id": "OsJJX7dgXela",
        "outputId": "8573742d-672c-485b-f61a-dd390606f6eb"
      },
      "outputs": [
        {
          "data": {
            "text/plain": [
              "(517754, 14)"
            ]
          },
          "execution_count": 71,
          "metadata": {},
          "output_type": "execute_result"
        }
      ],
      "source": [
        "train_df.shape"
      ]
    },
    {
      "cell_type": "code",
      "execution_count": 72,
      "metadata": {
        "colab": {
          "base_uri": "https://localhost:8080/"
        },
        "id": "URclnLkWXVtQ",
        "outputId": "e9d11459-b025-46d2-ccb8-0e04498f5ac3"
      },
      "outputs": [
        {
          "name": "stdout",
          "output_type": "stream",
          "text": [
            "<class 'pandas.core.frame.DataFrame'>\n",
            "RangeIndex: 517754 entries, 0 to 517753\n",
            "Data columns (total 14 columns):\n",
            " #   Column                  Non-Null Count   Dtype  \n",
            "---  ------                  --------------   -----  \n",
            " 0   id                      517754 non-null  int64  \n",
            " 1   road_type               517754 non-null  object \n",
            " 2   num_lanes               517754 non-null  int64  \n",
            " 3   curvature               517754 non-null  float64\n",
            " 4   speed_limit             517754 non-null  int64  \n",
            " 5   lighting                517754 non-null  object \n",
            " 6   weather                 517754 non-null  object \n",
            " 7   road_signs_present      517754 non-null  bool   \n",
            " 8   public_road             517754 non-null  bool   \n",
            " 9   time_of_day             517754 non-null  object \n",
            " 10  holiday                 517754 non-null  bool   \n",
            " 11  school_season           517754 non-null  bool   \n",
            " 12  num_reported_accidents  517754 non-null  int64  \n",
            " 13  accident_risk           517754 non-null  float64\n",
            "dtypes: bool(4), float64(2), int64(4), object(4)\n",
            "memory usage: 41.5+ MB\n"
          ]
        }
      ],
      "source": [
        "train_df.info()"
      ]
    },
    {
      "cell_type": "code",
      "execution_count": 73,
      "metadata": {
        "colab": {
          "base_uri": "https://localhost:8080/",
          "height": 492
        },
        "id": "KltfXI3_WTF6",
        "outputId": "8f460962-ae84-4108-894f-207799bb1576"
      },
      "outputs": [
        {
          "data": {
            "text/plain": [
              "id                        0\n",
              "road_type                 0\n",
              "num_lanes                 0\n",
              "curvature                 0\n",
              "speed_limit               0\n",
              "lighting                  0\n",
              "weather                   0\n",
              "road_signs_present        0\n",
              "public_road               0\n",
              "time_of_day               0\n",
              "holiday                   0\n",
              "school_season             0\n",
              "num_reported_accidents    0\n",
              "accident_risk             0\n",
              "dtype: int64"
            ]
          },
          "execution_count": 73,
          "metadata": {},
          "output_type": "execute_result"
        }
      ],
      "source": [
        "train_df.isnull().sum()"
      ]
    },
    {
      "cell_type": "code",
      "execution_count": 74,
      "metadata": {
        "colab": {
          "base_uri": "https://localhost:8080/"
        },
        "id": "jmcJPubAWmWM",
        "outputId": "8707e32a-7c6d-47d7-d532-443c9028696b"
      },
      "outputs": [
        {
          "data": {
            "text/plain": [
              "0"
            ]
          },
          "execution_count": 74,
          "metadata": {},
          "output_type": "execute_result"
        }
      ],
      "source": [
        "train_df.duplicated().sum()"
      ]
    },
    {
      "cell_type": "markdown",
      "metadata": {
        "id": "FhS2Ytcistgw"
      },
      "source": [
        "### Feature Engineering"
      ]
    },
    {
      "cell_type": "code",
      "execution_count": 75,
      "metadata": {
        "colab": {
          "base_uri": "https://localhost:8080/",
          "height": 839
        },
        "id": "0_noBD2oW5kR",
        "outputId": "a63ee7e6-ddc6-41f8-e6d0-6ab9fc575ddf"
      },
      "outputs": [
        {
          "data": {
            "image/png": "[encoded data removed]",
            "text/plain": [
              "<Figure size 1000x800 with 2 Axes>"
            ]
          },
          "metadata": {},
          "output_type": "display_data"
        }
      ],
      "source": [
        "columns = [col for col in train_df.columns if train_df[col].dtype != 'object' and train_df[col].dtype != 'bool']\n",
        "num_train_df = train_df[columns]\n",
        "plt.figure(figsize=(10, 8))\n",
        "sns.heatmap(num_train_df.corr(), annot=True, cmap='coolwarm')\n",
        "plt.show()"
      ]
    },
    {
      "cell_type": "markdown",
      "metadata": {
        "id": "4Ft0Zq43r0Of"
      },
      "source": [
        "A less correlation can be seen among various variables hence no multicollinearity is present in the data\n",
        "\n"
      ]
    },
    {
      "cell_type": "markdown",
      "metadata": {
        "id": "YqGyBYTGsBH7"
      },
      "source": [
        "## Conclusion of EDA and Data Cleaning:\n",
        "* Since Data does not contain any nan values hence no need to drop na\n",
        "* Also the data is free from multicollinearity and there is no feature that can be dropped as all features seems equaly important\n",
        "* Hence the data will be taken as it is"
      ]
    },
    {
      "cell_type": "markdown",
      "metadata": {
        "id": "ednjX9yls_OG"
      },
      "source": [
        "### Train Test Split"
      ]
    },
    {
      "cell_type": "code",
      "execution_count": 76,
      "metadata": {
        "id": "obOWJCH2X4Rd"
      },
      "outputs": [],
      "source": [
        "train_df_copy = train_df.copy()"
      ]
    },
    {
      "cell_type": "code",
      "execution_count": 77,
      "metadata": {
        "colab": {
          "base_uri": "https://localhost:8080/"
        },
        "id": "KS0Uzu7EcMWT",
        "outputId": "fb3a6fbc-12cf-479b-8475-58978391b8b6"
      },
      "outputs": [
        {
          "data": {
            "text/plain": [
              "((414203, 13), (103551, 13), (414203,), (103551,))"
            ]
          },
          "execution_count": 77,
          "metadata": {},
          "output_type": "execute_result"
        }
      ],
      "source": [
        "X = train_df_copy.drop('accident_risk', axis=1)\n",
        "y = train_df_copy['accident_risk']\n",
        "\n",
        "X_train,X_test,y_train,y_test = train_test_split(X,y,test_size=0.2,random_state=42)\n",
        "X_train.shape,X_test.shape,y_train.shape,y_test.shape"
      ]
    },
    {
      "cell_type": "markdown",
      "metadata": {
        "id": "DqT9GHBmtDjz"
      },
      "source": [
        "### Applying Ordinal Encoding"
      ]
    },
    {
      "cell_type": "code",
      "execution_count": 78,
      "metadata": {
        "id": "xlxI-vX3gwl1"
      },
      "outputs": [],
      "source": [
        "num_columns = [col for col in train_df.columns if train_df[col].dtype != 'object' and train_df[col].dtype != 'bool' and col!='accident_risk' and col!='id']\n",
        "non_num_colums = [col for col in train_df.columns if (train_df[col].dtype == 'object' or train_df[col].dtype == 'bool') and col != 'accident_risk']"
      ]
    },
    {
      "cell_type": "code",
      "execution_count": 79,
      "metadata": {
        "colab": {
          "base_uri": "https://localhost:8080/"
        },
        "id": "VH4GlLCXdutt",
        "outputId": "2d51bf4f-d9e1-425c-e2a5-5291c59b8e09"
      },
      "outputs": [
        {
          "name": "stdout",
          "output_type": "stream",
          "text": [
            "{'road_type': 3, 'lighting': 3, 'weather': 3, 'road_signs_present': 2, 'public_road': 2, 'time_of_day': 3, 'holiday': 2, 'school_season': 2}\n"
          ]
        }
      ],
      "source": [
        "x = {}\n",
        "for col in non_num_colums:\n",
        "  x[col] = train_df_copy[col].nunique()\n",
        "\n",
        "print(x)"
      ]
    },
    {
      "cell_type": "code",
      "execution_count": 80,
      "metadata": {
        "id": "qCpi4ErjceUv"
      },
      "outputs": [],
      "source": [
        "oe = OrdinalEncoder()\n",
        "\n",
        "X_train_encoded = oe.fit_transform(X_train[non_num_colums])\n",
        "X_test_encoded = oe.transform(X_test[non_num_colums])\n",
        "\n",
        "X_train_encoded_df = pd.DataFrame(X_train_encoded, columns=non_num_colums)\n",
        "X_test_encoded_df = pd.DataFrame(X_test_encoded, columns=non_num_colums)\n",
        "\n",
        "X_train_final = pd.concat([X_train[num_columns].reset_index(drop=True), X_train_encoded_df.reset_index(drop=True)],axis=1)\n",
        "X_test_final = pd.concat([X_test[num_columns].reset_index(drop=True), X_test_encoded_df.reset_index(drop=True)],axis=1)"
      ]
    },
    {
      "cell_type": "code",
      "execution_count": 81,
      "metadata": {
        "colab": {
          "base_uri": "https://localhost:8080/",
          "height": 424
        },
        "id": "lHfFRlFveHt2",
        "outputId": "3f7aa5a4-7efb-4260-c836-bb147d73415e"
      },
      "outputs": [
        {
          "data": {
            "text/html": [
              "<div>\n",
              "<style scoped>\n",
              "    .dataframe tbody tr th:only-of-type {\n",
              "        vertical-align: middle;\n",
              "    }\n",
              "\n",
              "    .dataframe tbody tr th {\n",
              "        vertical-align: top;\n",
              "    }\n",
              "\n",
              "    .dataframe thead th {\n",
              "        text-align: right;\n",
              "    }\n",
              "</style>\n",
              "<table border=\"1\" class=\"dataframe\">\n",
              "  <thead>\n",
              "    <tr style=\"text-align: right;\">\n",
              "      <th></th>\n",
              "      <th>num_lanes</th>\n",
              "      <th>curvature</th>\n",
              "      <th>speed_limit</th>\n",
              "      <th>num_reported_accidents</th>\n",
              "      <th>road_type</th>\n",
              "      <th>lighting</th>\n",
              "      <th>weather</th>\n",
              "      <th>road_signs_present</th>\n",
              "      <th>public_road</th>\n",
              "      <th>time_of_day</th>\n",
              "      <th>holiday</th>\n",
              "      <th>school_season</th>\n",
              "    </tr>\n",
              "  </thead>\n",
              "  <tbody>\n",
              "    <tr>\n",
              "      <th>0</th>\n",
              "      <td>2</td>\n",
              "      <td>0.43</td>\n",
              "      <td>60</td>\n",
              "      <td>2</td>\n",
              "      <td>1.0</td>\n",
              "      <td>1.0</td>\n",
              "      <td>0.0</td>\n",
              "      <td>0.0</td>\n",
              "      <td>0.0</td>\n",
              "      <td>0.0</td>\n",
              "      <td>1.0</td>\n",
              "      <td>1.0</td>\n",
              "    </tr>\n",
              "    <tr>\n",
              "      <th>1</th>\n",
              "      <td>4</td>\n",
              "      <td>0.18</td>\n",
              "      <td>25</td>\n",
              "      <td>1</td>\n",
              "      <td>0.0</td>\n",
              "      <td>2.0</td>\n",
              "      <td>0.0</td>\n",
              "      <td>0.0</td>\n",
              "      <td>0.0</td>\n",
              "      <td>0.0</td>\n",
              "      <td>1.0</td>\n",
              "      <td>0.0</td>\n",
              "    </tr>\n",
              "    <tr>\n",
              "      <th>2</th>\n",
              "      <td>1</td>\n",
              "      <td>0.20</td>\n",
              "      <td>70</td>\n",
              "      <td>1</td>\n",
              "      <td>2.0</td>\n",
              "      <td>2.0</td>\n",
              "      <td>0.0</td>\n",
              "      <td>0.0</td>\n",
              "      <td>1.0</td>\n",
              "      <td>2.0</td>\n",
              "      <td>1.0</td>\n",
              "      <td>1.0</td>\n",
              "    </tr>\n",
              "    <tr>\n",
              "      <th>3</th>\n",
              "      <td>3</td>\n",
              "      <td>0.81</td>\n",
              "      <td>60</td>\n",
              "      <td>1</td>\n",
              "      <td>2.0</td>\n",
              "      <td>0.0</td>\n",
              "      <td>1.0</td>\n",
              "      <td>1.0</td>\n",
              "      <td>0.0</td>\n",
              "      <td>1.0</td>\n",
              "      <td>1.0</td>\n",
              "      <td>1.0</td>\n",
              "    </tr>\n",
              "    <tr>\n",
              "      <th>4</th>\n",
              "      <td>3</td>\n",
              "      <td>0.43</td>\n",
              "      <td>35</td>\n",
              "      <td>2</td>\n",
              "      <td>1.0</td>\n",
              "      <td>2.0</td>\n",
              "      <td>2.0</td>\n",
              "      <td>0.0</td>\n",
              "      <td>1.0</td>\n",
              "      <td>2.0</td>\n",
              "      <td>1.0</td>\n",
              "      <td>1.0</td>\n",
              "    </tr>\n",
              "    <tr>\n",
              "      <th>...</th>\n",
              "      <td>...</td>\n",
              "      <td>...</td>\n",
              "      <td>...</td>\n",
              "      <td>...</td>\n",
              "      <td>...</td>\n",
              "      <td>...</td>\n",
              "      <td>...</td>\n",
              "      <td>...</td>\n",
              "      <td>...</td>\n",
              "      <td>...</td>\n",
              "      <td>...</td>\n",
              "      <td>...</td>\n",
              "    </tr>\n",
              "    <tr>\n",
              "      <th>414198</th>\n",
              "      <td>4</td>\n",
              "      <td>0.05</td>\n",
              "      <td>60</td>\n",
              "      <td>1</td>\n",
              "      <td>1.0</td>\n",
              "      <td>1.0</td>\n",
              "      <td>0.0</td>\n",
              "      <td>0.0</td>\n",
              "      <td>1.0</td>\n",
              "      <td>2.0</td>\n",
              "      <td>1.0</td>\n",
              "      <td>0.0</td>\n",
              "    </tr>\n",
              "    <tr>\n",
              "      <th>414199</th>\n",
              "      <td>3</td>\n",
              "      <td>0.47</td>\n",
              "      <td>70</td>\n",
              "      <td>1</td>\n",
              "      <td>1.0</td>\n",
              "      <td>1.0</td>\n",
              "      <td>2.0</td>\n",
              "      <td>0.0</td>\n",
              "      <td>0.0</td>\n",
              "      <td>1.0</td>\n",
              "      <td>1.0</td>\n",
              "      <td>1.0</td>\n",
              "    </tr>\n",
              "    <tr>\n",
              "      <th>414200</th>\n",
              "      <td>3</td>\n",
              "      <td>0.51</td>\n",
              "      <td>70</td>\n",
              "      <td>2</td>\n",
              "      <td>0.0</td>\n",
              "      <td>2.0</td>\n",
              "      <td>0.0</td>\n",
              "      <td>1.0</td>\n",
              "      <td>1.0</td>\n",
              "      <td>0.0</td>\n",
              "      <td>0.0</td>\n",
              "      <td>1.0</td>\n",
              "    </tr>\n",
              "    <tr>\n",
              "      <th>414201</th>\n",
              "      <td>3</td>\n",
              "      <td>0.91</td>\n",
              "      <td>60</td>\n",
              "      <td>4</td>\n",
              "      <td>1.0</td>\n",
              "      <td>2.0</td>\n",
              "      <td>2.0</td>\n",
              "      <td>1.0</td>\n",
              "      <td>0.0</td>\n",
              "      <td>1.0</td>\n",
              "      <td>0.0</td>\n",
              "      <td>0.0</td>\n",
              "    </tr>\n",
              "    <tr>\n",
              "      <th>414202</th>\n",
              "      <td>3</td>\n",
              "      <td>0.78</td>\n",
              "      <td>60</td>\n",
              "      <td>0</td>\n",
              "      <td>1.0</td>\n",
              "      <td>0.0</td>\n",
              "      <td>0.0</td>\n",
              "      <td>0.0</td>\n",
              "      <td>0.0</td>\n",
              "      <td>1.0</td>\n",
              "      <td>0.0</td>\n",
              "      <td>0.0</td>\n",
              "    </tr>\n",
              "  </tbody>\n",
              "</table>\n",
              "<p>414203 rows × 12 columns</p>\n",
              "</div>"
            ],
            "text/plain": [
              "        num_lanes  curvature  speed_limit  num_reported_accidents  road_type  \\\n",
              "0               2       0.43           60                       2        1.0   \n",
              "1               4       0.18           25                       1        0.0   \n",
              "2               1       0.20           70                       1        2.0   \n",
              "3               3       0.81           60                       1        2.0   \n",
              "4               3       0.43           35                       2        1.0   \n",
              "...           ...        ...          ...                     ...        ...   \n",
              "414198          4       0.05           60                       1        1.0   \n",
              "414199          3       0.47           70                       1        1.0   \n",
              "414200          3       0.51           70                       2        0.0   \n",
              "414201          3       0.91           60                       4        1.0   \n",
              "414202          3       0.78           60                       0        1.0   \n",
              "\n",
              "        lighting  weather  road_signs_present  public_road  time_of_day  \\\n",
              "0            1.0      0.0                 0.0          0.0          0.0   \n",
              "1            2.0      0.0                 0.0          0.0          0.0   \n",
              "2            2.0      0.0                 0.0          1.0          2.0   \n",
              "3            0.0      1.0                 1.0          0.0          1.0   \n",
              "4            2.0      2.0                 0.0          1.0          2.0   \n",
              "...          ...      ...                 ...          ...          ...   \n",
              "414198       1.0      0.0                 0.0          1.0          2.0   \n",
              "414199       1.0      2.0                 0.0          0.0          1.0   \n",
              "414200       2.0      0.0                 1.0          1.0          0.0   \n",
              "414201       2.0      2.0                 1.0          0.0          1.0   \n",
              "414202       0.0      0.0                 0.0          0.0          1.0   \n",
              "\n",
              "        holiday  school_season  \n",
              "0           1.0            1.0  \n",
              "1           1.0            0.0  \n",
              "2           1.0            1.0  \n",
              "3           1.0            1.0  \n",
              "4           1.0            1.0  \n",
              "...         ...            ...  \n",
              "414198      1.0            0.0  \n",
              "414199      1.0            1.0  \n",
              "414200      0.0            1.0  \n",
              "414201      0.0            0.0  \n",
              "414202      0.0            0.0  \n",
              "\n",
              "[414203 rows x 12 columns]"
            ]
          },
          "execution_count": 81,
          "metadata": {},
          "output_type": "execute_result"
        }
      ],
      "source": [
        "X_train_final"
      ]
    },
    {
      "cell_type": "code",
      "execution_count": 82,
      "metadata": {
        "colab": {
          "base_uri": "https://localhost:8080/",
          "height": 424
        },
        "id": "-h6hEQ2BgKlE",
        "outputId": "afee8019-738b-44f1-aad9-55195c45bf1c"
      },
      "outputs": [
        {
          "data": {
            "text/html": [
              "<div>\n",
              "<style scoped>\n",
              "    .dataframe tbody tr th:only-of-type {\n",
              "        vertical-align: middle;\n",
              "    }\n",
              "\n",
              "    .dataframe tbody tr th {\n",
              "        vertical-align: top;\n",
              "    }\n",
              "\n",
              "    .dataframe thead th {\n",
              "        text-align: right;\n",
              "    }\n",
              "</style>\n",
              "<table border=\"1\" class=\"dataframe\">\n",
              "  <thead>\n",
              "    <tr style=\"text-align: right;\">\n",
              "      <th></th>\n",
              "      <th>num_lanes</th>\n",
              "      <th>curvature</th>\n",
              "      <th>speed_limit</th>\n",
              "      <th>num_reported_accidents</th>\n",
              "      <th>road_type</th>\n",
              "      <th>lighting</th>\n",
              "      <th>weather</th>\n",
              "      <th>road_signs_present</th>\n",
              "      <th>public_road</th>\n",
              "      <th>time_of_day</th>\n",
              "      <th>holiday</th>\n",
              "      <th>school_season</th>\n",
              "    </tr>\n",
              "  </thead>\n",
              "  <tbody>\n",
              "    <tr>\n",
              "      <th>0</th>\n",
              "      <td>1</td>\n",
              "      <td>0.09</td>\n",
              "      <td>45</td>\n",
              "      <td>2</td>\n",
              "      <td>0.0</td>\n",
              "      <td>1.0</td>\n",
              "      <td>2.0</td>\n",
              "      <td>0.0</td>\n",
              "      <td>0.0</td>\n",
              "      <td>0.0</td>\n",
              "      <td>1.0</td>\n",
              "      <td>0.0</td>\n",
              "    </tr>\n",
              "    <tr>\n",
              "      <th>1</th>\n",
              "      <td>4</td>\n",
              "      <td>0.14</td>\n",
              "      <td>60</td>\n",
              "      <td>0</td>\n",
              "      <td>2.0</td>\n",
              "      <td>0.0</td>\n",
              "      <td>2.0</td>\n",
              "      <td>0.0</td>\n",
              "      <td>1.0</td>\n",
              "      <td>2.0</td>\n",
              "      <td>1.0</td>\n",
              "      <td>0.0</td>\n",
              "    </tr>\n",
              "    <tr>\n",
              "      <th>2</th>\n",
              "      <td>2</td>\n",
              "      <td>0.51</td>\n",
              "      <td>25</td>\n",
              "      <td>0</td>\n",
              "      <td>0.0</td>\n",
              "      <td>1.0</td>\n",
              "      <td>2.0</td>\n",
              "      <td>1.0</td>\n",
              "      <td>1.0</td>\n",
              "      <td>1.0</td>\n",
              "      <td>0.0</td>\n",
              "      <td>0.0</td>\n",
              "    </tr>\n",
              "    <tr>\n",
              "      <th>3</th>\n",
              "      <td>1</td>\n",
              "      <td>0.33</td>\n",
              "      <td>60</td>\n",
              "      <td>1</td>\n",
              "      <td>1.0</td>\n",
              "      <td>0.0</td>\n",
              "      <td>0.0</td>\n",
              "      <td>0.0</td>\n",
              "      <td>1.0</td>\n",
              "      <td>2.0</td>\n",
              "      <td>0.0</td>\n",
              "      <td>1.0</td>\n",
              "    </tr>\n",
              "    <tr>\n",
              "      <th>4</th>\n",
              "      <td>4</td>\n",
              "      <td>0.12</td>\n",
              "      <td>60</td>\n",
              "      <td>1</td>\n",
              "      <td>2.0</td>\n",
              "      <td>0.0</td>\n",
              "      <td>1.0</td>\n",
              "      <td>0.0</td>\n",
              "      <td>1.0</td>\n",
              "      <td>0.0</td>\n",
              "      <td>0.0</td>\n",
              "      <td>0.0</td>\n",
              "    </tr>\n",
              "    <tr>\n",
              "      <th>...</th>\n",
              "      <td>...</td>\n",
              "      <td>...</td>\n",
              "      <td>...</td>\n",
              "      <td>...</td>\n",
              "      <td>...</td>\n",
              "      <td>...</td>\n",
              "      <td>...</td>\n",
              "      <td>...</td>\n",
              "      <td>...</td>\n",
              "      <td>...</td>\n",
              "      <td>...</td>\n",
              "      <td>...</td>\n",
              "    </tr>\n",
              "    <tr>\n",
              "      <th>103546</th>\n",
              "      <td>2</td>\n",
              "      <td>0.19</td>\n",
              "      <td>25</td>\n",
              "      <td>0</td>\n",
              "      <td>2.0</td>\n",
              "      <td>1.0</td>\n",
              "      <td>0.0</td>\n",
              "      <td>0.0</td>\n",
              "      <td>0.0</td>\n",
              "      <td>1.0</td>\n",
              "      <td>0.0</td>\n",
              "      <td>0.0</td>\n",
              "    </tr>\n",
              "    <tr>\n",
              "      <th>103547</th>\n",
              "      <td>3</td>\n",
              "      <td>0.63</td>\n",
              "      <td>45</td>\n",
              "      <td>0</td>\n",
              "      <td>1.0</td>\n",
              "      <td>1.0</td>\n",
              "      <td>0.0</td>\n",
              "      <td>1.0</td>\n",
              "      <td>0.0</td>\n",
              "      <td>1.0</td>\n",
              "      <td>1.0</td>\n",
              "      <td>1.0</td>\n",
              "    </tr>\n",
              "    <tr>\n",
              "      <th>103548</th>\n",
              "      <td>2</td>\n",
              "      <td>0.68</td>\n",
              "      <td>45</td>\n",
              "      <td>1</td>\n",
              "      <td>0.0</td>\n",
              "      <td>2.0</td>\n",
              "      <td>0.0</td>\n",
              "      <td>0.0</td>\n",
              "      <td>1.0</td>\n",
              "      <td>2.0</td>\n",
              "      <td>1.0</td>\n",
              "      <td>0.0</td>\n",
              "    </tr>\n",
              "    <tr>\n",
              "      <th>103549</th>\n",
              "      <td>3</td>\n",
              "      <td>0.43</td>\n",
              "      <td>25</td>\n",
              "      <td>2</td>\n",
              "      <td>0.0</td>\n",
              "      <td>1.0</td>\n",
              "      <td>0.0</td>\n",
              "      <td>0.0</td>\n",
              "      <td>0.0</td>\n",
              "      <td>0.0</td>\n",
              "      <td>0.0</td>\n",
              "      <td>0.0</td>\n",
              "    </tr>\n",
              "    <tr>\n",
              "      <th>103550</th>\n",
              "      <td>2</td>\n",
              "      <td>0.16</td>\n",
              "      <td>45</td>\n",
              "      <td>2</td>\n",
              "      <td>0.0</td>\n",
              "      <td>0.0</td>\n",
              "      <td>1.0</td>\n",
              "      <td>1.0</td>\n",
              "      <td>1.0</td>\n",
              "      <td>1.0</td>\n",
              "      <td>0.0</td>\n",
              "      <td>0.0</td>\n",
              "    </tr>\n",
              "  </tbody>\n",
              "</table>\n",
              "<p>103551 rows × 12 columns</p>\n",
              "</div>"
            ],
            "text/plain": [
              "        num_lanes  curvature  speed_limit  num_reported_accidents  road_type  \\\n",
              "0               1       0.09           45                       2        0.0   \n",
              "1               4       0.14           60                       0        2.0   \n",
              "2               2       0.51           25                       0        0.0   \n",
              "3               1       0.33           60                       1        1.0   \n",
              "4               4       0.12           60                       1        2.0   \n",
              "...           ...        ...          ...                     ...        ...   \n",
              "103546          2       0.19           25                       0        2.0   \n",
              "103547          3       0.63           45                       0        1.0   \n",
              "103548          2       0.68           45                       1        0.0   \n",
              "103549          3       0.43           25                       2        0.0   \n",
              "103550          2       0.16           45                       2        0.0   \n",
              "\n",
              "        lighting  weather  road_signs_present  public_road  time_of_day  \\\n",
              "0            1.0      2.0                 0.0          0.0          0.0   \n",
              "1            0.0      2.0                 0.0          1.0          2.0   \n",
              "2            1.0      2.0                 1.0          1.0          1.0   \n",
              "3            0.0      0.0                 0.0          1.0          2.0   \n",
              "4            0.0      1.0                 0.0          1.0          0.0   \n",
              "...          ...      ...                 ...          ...          ...   \n",
              "103546       1.0      0.0                 0.0          0.0          1.0   \n",
              "103547       1.0      0.0                 1.0          0.0          1.0   \n",
              "103548       2.0      0.0                 0.0          1.0          2.0   \n",
              "103549       1.0      0.0                 0.0          0.0          0.0   \n",
              "103550       0.0      1.0                 1.0          1.0          1.0   \n",
              "\n",
              "        holiday  school_season  \n",
              "0           1.0            0.0  \n",
              "1           1.0            0.0  \n",
              "2           0.0            0.0  \n",
              "3           0.0            1.0  \n",
              "4           0.0            0.0  \n",
              "...         ...            ...  \n",
              "103546      0.0            0.0  \n",
              "103547      1.0            1.0  \n",
              "103548      1.0            0.0  \n",
              "103549      0.0            0.0  \n",
              "103550      0.0            0.0  \n",
              "\n",
              "[103551 rows x 12 columns]"
            ]
          },
          "execution_count": 82,
          "metadata": {},
          "output_type": "execute_result"
        }
      ],
      "source": [
        "X_test_final"
      ]
    },
    {
      "cell_type": "markdown",
      "metadata": {
        "id": "2amEFZ55tItw"
      },
      "source": [
        "### Training XGBoost and other ML models"
      ]
    },
    {
      "cell_type": "code",
      "execution_count": 83,
      "metadata": {},
      "outputs": [
        {
          "name": "stdout",
          "output_type": "stream",
          "text": [
            "Requirement already satisfied: xgboost in c:\\users\\nehap\\downloads\\ann classification\\venv\\lib\\site-packages (3.1.1)\n",
            "Requirement already satisfied: numpy in c:\\users\\nehap\\downloads\\ann classification\\venv\\lib\\site-packages (from xgboost) (1.26.4)\n",
            "Requirement already satisfied: scipy in c:\\users\\nehap\\downloads\\ann classification\\venv\\lib\\site-packages (from xgboost) (1.16.2)\n"
          ]
        }
      ],
      "source": [
        "!pip install xgboost"
      ]
    },
    {
      "cell_type": "code",
      "execution_count": 84,
      "metadata": {
        "colab": {
          "base_uri": "https://localhost:8080/"
        },
        "id": "MF-iTpy5iu_S",
        "outputId": "5dc28c94-28ff-4764-fb55-8db57b7ad9c6"
      },
      "outputs": [
        {
          "name": "stdout",
          "output_type": "stream",
          "text": [
            "\n",
            "🚀 Training XGBoost ...\n"
          ]
        }
      ],
      "source": [
        "from sklearn.metrics import r2_score, mean_absolute_error, mean_squared_error\n",
        "from xgboost import XGBRegressor\n",
        "import warnings\n",
        "warnings.filterwarnings(\"ignore\")\n",
        "\n",
        "models = { \"XGBoost\": XGBRegressor(\n",
        "        n_estimators=200,\n",
        "        learning_rate=0.05,\n",
        "        max_depth=6,\n",
        "        subsample=0.8,\n",
        "        colsample_bytree=0.8,\n",
        "        n_jobs=-1,\n",
        "        tree_method=\"hist\",\n",
        "        random_state=42\n",
        "    )}\n",
        "\n",
        "results = []\n",
        "\n",
        "for name, model in models.items():\n",
        "    print(f\"\\n🚀 Training {name} ...\")\n",
        "    try:\n",
        "        model.fit(X_train_final, y_train)\n",
        "        y_pred = model.predict(X_test_final)\n",
        "\n",
        "        r2 = r2_score(y_test, y_pred)\n",
        "        mae = mean_absolute_error(y_test, y_pred)\n",
        "        rmse = np.sqrt(mean_squared_error(y_test, y_pred))\n",
        "\n",
        "        results.append({\n",
        "            \"Model\": name,\n",
        "            \"R2 Score\": round(r2, 4),\n",
        "            \"MAE\": round(mae, 4),\n",
        "            \"RMSE\": round(rmse, 4)\n",
        "        })\n",
        "    except Exception as e:\n",
        "        print(f\"⚠️ Skipping {name} due to error: {e}\")"
      ]
    },
    {
      "cell_type": "code",
      "execution_count": 85,
      "metadata": {
        "colab": {
          "base_uri": "https://localhost:8080/"
        },
        "id": "avGd4nhfk4Iz",
        "outputId": "456435a0-b738-4e15-ca5b-f128e03a8b42"
      },
      "outputs": [
        {
          "name": "stdout",
          "output_type": "stream",
          "text": [
            "\n",
            "🚀 Training Linear Regression ...\n",
            "\n",
            "🚀 Training Ridge ...\n",
            "\n",
            "🚀 Training Lasso ...\n",
            "\n",
            "🚀 Training ElasticNet ...\n",
            "\n",
            "🚀 Training Decision Tree ...\n",
            "               Model  R2 Score     MAE    RMSE\n",
            "0            XGBoost    0.8853  0.0437  0.0563\n",
            "1      Decision Tree    0.8841  0.0438  0.0566\n",
            "2  Linear Regression    0.7167  0.0708  0.0884\n",
            "3              Ridge    0.7167  0.0708  0.0884\n",
            "4              Lasso    0.7161  0.0708  0.0885\n",
            "5         ElasticNet    0.7165  0.0708  0.0885\n"
          ]
        }
      ],
      "source": [
        "from sklearn.linear_model import LinearRegression, Ridge, Lasso, ElasticNet\n",
        "from sklearn.tree import DecisionTreeRegressor\n",
        "from sklearn.ensemble import RandomForestRegressor, GradientBoostingRegressor\n",
        "\n",
        "models = {\n",
        "    \"Linear Regression\": LinearRegression(),\n",
        "    \"Ridge\": Ridge(alpha=1.0),\n",
        "    \"Lasso\": Lasso(alpha=0.001),\n",
        "    \"ElasticNet\": ElasticNet(alpha=0.001, l1_ratio=0.5),\n",
        "    \"Decision Tree\": DecisionTreeRegressor(max_depth=10, random_state=42)\n",
        "    }\n",
        "\n",
        "for name, model in models.items():\n",
        "    print(f\"\\n🚀 Training {name} ...\")\n",
        "    try:\n",
        "        model.fit(X_train_final, y_train)\n",
        "        y_pred = model.predict(X_test_final)\n",
        "\n",
        "        r2 = r2_score(y_test, y_pred)\n",
        "        mae = mean_absolute_error(y_test, y_pred)\n",
        "        rmse = np.sqrt(mean_squared_error(y_test, y_pred))\n",
        "\n",
        "        results.append({\n",
        "            \"Model\": name,\n",
        "            \"R2 Score\": round(r2, 4),\n",
        "            \"MAE\": round(mae, 4),\n",
        "            \"RMSE\": round(rmse, 4)\n",
        "        })\n",
        "    except Exception as e:\n",
        "        print(f\"⚠️ Skipping {name} due to error: {e}\")\n",
        "\n",
        "results_df = pd.DataFrame(results).sort_values(by=\"RMSE\", ascending=True)\n",
        "print(results_df.reset_index(drop=True))"
      ]
    },
    {
      "cell_type": "code",
      "execution_count": 86,
      "metadata": {},
      "outputs": [
        {
          "data": {
            "text/html": [
              "<div>\n",
              "<style scoped>\n",
              "    .dataframe tbody tr th:only-of-type {\n",
              "        vertical-align: middle;\n",
              "    }\n",
              "\n",
              "    .dataframe tbody tr th {\n",
              "        vertical-align: top;\n",
              "    }\n",
              "\n",
              "    .dataframe thead th {\n",
              "        text-align: right;\n",
              "    }\n",
              "</style>\n",
              "<table border=\"1\" class=\"dataframe\">\n",
              "  <thead>\n",
              "    <tr style=\"text-align: right;\">\n",
              "      <th></th>\n",
              "      <th>num_lanes</th>\n",
              "      <th>curvature</th>\n",
              "      <th>speed_limit</th>\n",
              "      <th>num_reported_accidents</th>\n",
              "      <th>road_type</th>\n",
              "      <th>lighting</th>\n",
              "      <th>weather</th>\n",
              "      <th>road_signs_present</th>\n",
              "      <th>public_road</th>\n",
              "      <th>time_of_day</th>\n",
              "      <th>holiday</th>\n",
              "      <th>school_season</th>\n",
              "    </tr>\n",
              "  </thead>\n",
              "  <tbody>\n",
              "    <tr>\n",
              "      <th>0</th>\n",
              "      <td>2</td>\n",
              "      <td>0.43</td>\n",
              "      <td>60</td>\n",
              "      <td>2</td>\n",
              "      <td>1.0</td>\n",
              "      <td>1.0</td>\n",
              "      <td>0.0</td>\n",
              "      <td>0.0</td>\n",
              "      <td>0.0</td>\n",
              "      <td>0.0</td>\n",
              "      <td>1.0</td>\n",
              "      <td>1.0</td>\n",
              "    </tr>\n",
              "    <tr>\n",
              "      <th>1</th>\n",
              "      <td>4</td>\n",
              "      <td>0.18</td>\n",
              "      <td>25</td>\n",
              "      <td>1</td>\n",
              "      <td>0.0</td>\n",
              "      <td>2.0</td>\n",
              "      <td>0.0</td>\n",
              "      <td>0.0</td>\n",
              "      <td>0.0</td>\n",
              "      <td>0.0</td>\n",
              "      <td>1.0</td>\n",
              "      <td>0.0</td>\n",
              "    </tr>\n",
              "    <tr>\n",
              "      <th>2</th>\n",
              "      <td>1</td>\n",
              "      <td>0.20</td>\n",
              "      <td>70</td>\n",
              "      <td>1</td>\n",
              "      <td>2.0</td>\n",
              "      <td>2.0</td>\n",
              "      <td>0.0</td>\n",
              "      <td>0.0</td>\n",
              "      <td>1.0</td>\n",
              "      <td>2.0</td>\n",
              "      <td>1.0</td>\n",
              "      <td>1.0</td>\n",
              "    </tr>\n",
              "    <tr>\n",
              "      <th>3</th>\n",
              "      <td>3</td>\n",
              "      <td>0.81</td>\n",
              "      <td>60</td>\n",
              "      <td>1</td>\n",
              "      <td>2.0</td>\n",
              "      <td>0.0</td>\n",
              "      <td>1.0</td>\n",
              "      <td>1.0</td>\n",
              "      <td>0.0</td>\n",
              "      <td>1.0</td>\n",
              "      <td>1.0</td>\n",
              "      <td>1.0</td>\n",
              "    </tr>\n",
              "    <tr>\n",
              "      <th>4</th>\n",
              "      <td>3</td>\n",
              "      <td>0.43</td>\n",
              "      <td>35</td>\n",
              "      <td>2</td>\n",
              "      <td>1.0</td>\n",
              "      <td>2.0</td>\n",
              "      <td>2.0</td>\n",
              "      <td>0.0</td>\n",
              "      <td>1.0</td>\n",
              "      <td>2.0</td>\n",
              "      <td>1.0</td>\n",
              "      <td>1.0</td>\n",
              "    </tr>\n",
              "    <tr>\n",
              "      <th>...</th>\n",
              "      <td>...</td>\n",
              "      <td>...</td>\n",
              "      <td>...</td>\n",
              "      <td>...</td>\n",
              "      <td>...</td>\n",
              "      <td>...</td>\n",
              "      <td>...</td>\n",
              "      <td>...</td>\n",
              "      <td>...</td>\n",
              "      <td>...</td>\n",
              "      <td>...</td>\n",
              "      <td>...</td>\n",
              "    </tr>\n",
              "    <tr>\n",
              "      <th>414198</th>\n",
              "      <td>4</td>\n",
              "      <td>0.05</td>\n",
              "      <td>60</td>\n",
              "      <td>1</td>\n",
              "      <td>1.0</td>\n",
              "      <td>1.0</td>\n",
              "      <td>0.0</td>\n",
              "      <td>0.0</td>\n",
              "      <td>1.0</td>\n",
              "      <td>2.0</td>\n",
              "      <td>1.0</td>\n",
              "      <td>0.0</td>\n",
              "    </tr>\n",
              "    <tr>\n",
              "      <th>414199</th>\n",
              "      <td>3</td>\n",
              "      <td>0.47</td>\n",
              "      <td>70</td>\n",
              "      <td>1</td>\n",
              "      <td>1.0</td>\n",
              "      <td>1.0</td>\n",
              "      <td>2.0</td>\n",
              "      <td>0.0</td>\n",
              "      <td>0.0</td>\n",
              "      <td>1.0</td>\n",
              "      <td>1.0</td>\n",
              "      <td>1.0</td>\n",
              "    </tr>\n",
              "    <tr>\n",
              "      <th>414200</th>\n",
              "      <td>3</td>\n",
              "      <td>0.51</td>\n",
              "      <td>70</td>\n",
              "      <td>2</td>\n",
              "      <td>0.0</td>\n",
              "      <td>2.0</td>\n",
              "      <td>0.0</td>\n",
              "      <td>1.0</td>\n",
              "      <td>1.0</td>\n",
              "      <td>0.0</td>\n",
              "      <td>0.0</td>\n",
              "      <td>1.0</td>\n",
              "    </tr>\n",
              "    <tr>\n",
              "      <th>414201</th>\n",
              "      <td>3</td>\n",
              "      <td>0.91</td>\n",
              "      <td>60</td>\n",
              "      <td>4</td>\n",
              "      <td>1.0</td>\n",
              "      <td>2.0</td>\n",
              "      <td>2.0</td>\n",
              "      <td>1.0</td>\n",
              "      <td>0.0</td>\n",
              "      <td>1.0</td>\n",
              "      <td>0.0</td>\n",
              "      <td>0.0</td>\n",
              "    </tr>\n",
              "    <tr>\n",
              "      <th>414202</th>\n",
              "      <td>3</td>\n",
              "      <td>0.78</td>\n",
              "      <td>60</td>\n",
              "      <td>0</td>\n",
              "      <td>1.0</td>\n",
              "      <td>0.0</td>\n",
              "      <td>0.0</td>\n",
              "      <td>0.0</td>\n",
              "      <td>0.0</td>\n",
              "      <td>1.0</td>\n",
              "      <td>0.0</td>\n",
              "      <td>0.0</td>\n",
              "    </tr>\n",
              "  </tbody>\n",
              "</table>\n",
              "<p>414203 rows × 12 columns</p>\n",
              "</div>"
            ],
            "text/plain": [
              "        num_lanes  curvature  speed_limit  num_reported_accidents  road_type  \\\n",
              "0               2       0.43           60                       2        1.0   \n",
              "1               4       0.18           25                       1        0.0   \n",
              "2               1       0.20           70                       1        2.0   \n",
              "3               3       0.81           60                       1        2.0   \n",
              "4               3       0.43           35                       2        1.0   \n",
              "...           ...        ...          ...                     ...        ...   \n",
              "414198          4       0.05           60                       1        1.0   \n",
              "414199          3       0.47           70                       1        1.0   \n",
              "414200          3       0.51           70                       2        0.0   \n",
              "414201          3       0.91           60                       4        1.0   \n",
              "414202          3       0.78           60                       0        1.0   \n",
              "\n",
              "        lighting  weather  road_signs_present  public_road  time_of_day  \\\n",
              "0            1.0      0.0                 0.0          0.0          0.0   \n",
              "1            2.0      0.0                 0.0          0.0          0.0   \n",
              "2            2.0      0.0                 0.0          1.0          2.0   \n",
              "3            0.0      1.0                 1.0          0.0          1.0   \n",
              "4            2.0      2.0                 0.0          1.0          2.0   \n",
              "...          ...      ...                 ...          ...          ...   \n",
              "414198       1.0      0.0                 0.0          1.0          2.0   \n",
              "414199       1.0      2.0                 0.0          0.0          1.0   \n",
              "414200       2.0      0.0                 1.0          1.0          0.0   \n",
              "414201       2.0      2.0                 1.0          0.0          1.0   \n",
              "414202       0.0      0.0                 0.0          0.0          1.0   \n",
              "\n",
              "        holiday  school_season  \n",
              "0           1.0            1.0  \n",
              "1           1.0            0.0  \n",
              "2           1.0            1.0  \n",
              "3           1.0            1.0  \n",
              "4           1.0            1.0  \n",
              "...         ...            ...  \n",
              "414198      1.0            0.0  \n",
              "414199      1.0            1.0  \n",
              "414200      0.0            1.0  \n",
              "414201      0.0            0.0  \n",
              "414202      0.0            0.0  \n",
              "\n",
              "[414203 rows x 12 columns]"
            ]
          },
          "execution_count": 86,
          "metadata": {},
          "output_type": "execute_result"
        }
      ],
      "source": [
        "X_train_final"
      ]
    },
    {
      "cell_type": "code",
      "execution_count": 87,
      "metadata": {
        "colab": {
          "base_uri": "https://localhost:8080/",
          "height": 301
        },
        "id": "PCUIFmdaluX7",
        "outputId": "b34e9f2b-5361-4a59-87a1-0bd2e3e3c70a"
      },
      "outputs": [
        {
          "data": {
            "text/html": [
              "<div>\n",
              "<style scoped>\n",
              "    .dataframe tbody tr th:only-of-type {\n",
              "        vertical-align: middle;\n",
              "    }\n",
              "\n",
              "    .dataframe tbody tr th {\n",
              "        vertical-align: top;\n",
              "    }\n",
              "\n",
              "    .dataframe thead th {\n",
              "        text-align: right;\n",
              "    }\n",
              "</style>\n",
              "<table border=\"1\" class=\"dataframe\">\n",
              "  <thead>\n",
              "    <tr style=\"text-align: right;\">\n",
              "      <th></th>\n",
              "      <th>Model</th>\n",
              "      <th>R2 Score</th>\n",
              "      <th>MAE</th>\n",
              "      <th>RMSE</th>\n",
              "    </tr>\n",
              "  </thead>\n",
              "  <tbody>\n",
              "    <tr>\n",
              "      <th>0</th>\n",
              "      <td>XGBoost</td>\n",
              "      <td>0.8853</td>\n",
              "      <td>0.0437</td>\n",
              "      <td>0.0563</td>\n",
              "    </tr>\n",
              "    <tr>\n",
              "      <th>1</th>\n",
              "      <td>Decision Tree</td>\n",
              "      <td>0.8841</td>\n",
              "      <td>0.0438</td>\n",
              "      <td>0.0566</td>\n",
              "    </tr>\n",
              "    <tr>\n",
              "      <th>2</th>\n",
              "      <td>Linear Regression</td>\n",
              "      <td>0.7167</td>\n",
              "      <td>0.0708</td>\n",
              "      <td>0.0884</td>\n",
              "    </tr>\n",
              "    <tr>\n",
              "      <th>3</th>\n",
              "      <td>Ridge</td>\n",
              "      <td>0.7167</td>\n",
              "      <td>0.0708</td>\n",
              "      <td>0.0884</td>\n",
              "    </tr>\n",
              "    <tr>\n",
              "      <th>4</th>\n",
              "      <td>Lasso</td>\n",
              "      <td>0.7161</td>\n",
              "      <td>0.0708</td>\n",
              "      <td>0.0885</td>\n",
              "    </tr>\n",
              "    <tr>\n",
              "      <th>5</th>\n",
              "      <td>ElasticNet</td>\n",
              "      <td>0.7165</td>\n",
              "      <td>0.0708</td>\n",
              "      <td>0.0885</td>\n",
              "    </tr>\n",
              "  </tbody>\n",
              "</table>\n",
              "</div>"
            ],
            "text/plain": [
              "               Model  R2 Score     MAE    RMSE\n",
              "0            XGBoost    0.8853  0.0437  0.0563\n",
              "1      Decision Tree    0.8841  0.0438  0.0566\n",
              "2  Linear Regression    0.7167  0.0708  0.0884\n",
              "3              Ridge    0.7167  0.0708  0.0884\n",
              "4              Lasso    0.7161  0.0708  0.0885\n",
              "5         ElasticNet    0.7165  0.0708  0.0885"
            ]
          },
          "execution_count": 87,
          "metadata": {},
          "output_type": "execute_result"
        }
      ],
      "source": [
        "results_df.drop_duplicates(inplace=True)\n",
        "results_df = results_df.reset_index(drop=True)\n",
        "results_df"
      ]
    },
    {
      "cell_type": "markdown",
      "metadata": {
        "id": "zR2GcM1ztT8I"
      },
      "source": [
        "### Conclusion for ML Models:\n",
        "\n",
        "Gradient Boosting and XG Boost both perform best in terms of RMSE. However R2 Score needs to be improved"
      ]
    },
    {
      "cell_type": "markdown",
      "metadata": {
        "id": "kcBj06aAtjcs"
      },
      "source": [
        "### Creating Pipeline and Deploying it in Pickle using XG Boost as our model"
      ]
    },
    {
      "cell_type": "code",
      "execution_count": 88,
      "metadata": {
        "id": "xY8lcVH3qbYr"
      },
      "outputs": [],
      "source": [
        "xgb = XGBRegressor(\n",
        "        n_estimators=200,\n",
        "        learning_rate=0.05,\n",
        "        max_depth=6,\n",
        "        subsample=0.8,\n",
        "        colsample_bytree=0.8,\n",
        "        n_jobs=-1,\n",
        "        tree_method=\"hist\",\n",
        "        random_state=42)"
      ]
    },
    {
      "cell_type": "code",
      "execution_count": 89,
      "metadata": {},
      "outputs": [
        {
          "data": {
            "text/plain": [
              "12"
            ]
          },
          "execution_count": 89,
          "metadata": {},
          "output_type": "execute_result"
        }
      ],
      "source": [
        "len(num_columns)+len(non_num_colums)"
      ]
    },
    {
      "cell_type": "code",
      "execution_count": 90,
      "metadata": {
        "id": "4ZGxI0j2nlx2"
      },
      "outputs": [],
      "source": [
        "preprocessor = ColumnTransformer(\n",
        "    transformers=[\n",
        "        ('num', 'passthrough', num_columns),\n",
        "        ('cat', OrdinalEncoder(handle_unknown='use_encoded_value', unknown_value=-1), non_num_colums)\n",
        "    ],\n",
        "    remainder='drop'  # drop anything not listed above\n",
        ")\n",
        "\n",
        "pipe = Pipeline(steps=[\n",
        "    ('preprocessor', preprocessor),\n",
        "    ('model', xgb)\n",
        "])"
      ]
    },
    {
      "cell_type": "code",
      "execution_count": 91,
      "metadata": {},
      "outputs": [],
      "source": [
        "X_train.drop(\"id\",axis=1,inplace=True)\n",
        "X_test.drop(\"id\",axis=1,inplace=True)"
      ]
    },
    {
      "cell_type": "code",
      "execution_count": 92,
      "metadata": {
        "colab": {
          "base_uri": "https://localhost:8080/",
          "height": 252
        },
        "id": "clnJIufLqjwR",
        "outputId": "c2db1f7b-68a5-4a4b-bf5d-24f3286f13bf"
      },
      "outputs": [
        {
          "ename": "FileNotFoundError",
          "evalue": "[Errno 2] No such file or directory: 'c:\\\\Users\\\\nehap\\\\Downloads\\\\ANN Classification\\\\venv\\\\Lib\\\\site-packages\\\\sklearn\\\\utils\\\\_repr_html\\\\estimator.js'",
          "output_type": "error",
          "traceback": [
            "\u001b[31m---------------------------------------------------------------------------\u001b[39m",
            "\u001b[31mFileNotFoundError\u001b[39m                         Traceback (most recent call last)",
            "\u001b[36mFile \u001b[39m\u001b[32mc:\\Users\\nehap\\Downloads\\ANN Classification\\venv\\Lib\\site-packages\\IPython\\core\\formatters.py:1036\u001b[39m, in \u001b[36mMimeBundleFormatter.__call__\u001b[39m\u001b[34m(self, obj, include, exclude)\u001b[39m\n\u001b[32m   1033\u001b[39m     method = get_real_method(obj, \u001b[38;5;28mself\u001b[39m.print_method)\n\u001b[32m   1035\u001b[39m     \u001b[38;5;28;01mif\u001b[39;00m method \u001b[38;5;129;01mis\u001b[39;00m \u001b[38;5;129;01mnot\u001b[39;00m \u001b[38;5;28;01mNone\u001b[39;00m:\n\u001b[32m-> \u001b[39m\u001b[32m1036\u001b[39m         \u001b[38;5;28;01mreturn\u001b[39;00m \u001b[43mmethod\u001b[49m\u001b[43m(\u001b[49m\u001b[43minclude\u001b[49m\u001b[43m=\u001b[49m\u001b[43minclude\u001b[49m\u001b[43m,\u001b[49m\u001b[43m \u001b[49m\u001b[43mexclude\u001b[49m\u001b[43m=\u001b[49m\u001b[43mexclude\u001b[49m\u001b[43m)\u001b[49m\n\u001b[32m   1037\u001b[39m     \u001b[38;5;28;01mreturn\u001b[39;00m \u001b[38;5;28;01mNone\u001b[39;00m\n\u001b[32m   1038\u001b[39m \u001b[38;5;28;01melse\u001b[39;00m:\n",
            "\u001b[36mFile \u001b[39m\u001b[32mc:\\Users\\nehap\\Downloads\\ANN Classification\\venv\\Lib\\site-packages\\sklearn\\utils\\_repr_html\\base.py:151\u001b[39m, in \u001b[36m_repr_mimebundle_\u001b[39m\u001b[34m(self, **kwargs)\u001b[39m\n",
            "\u001b[36mFile \u001b[39m\u001b[32mc:\\Users\\nehap\\Downloads\\ANN Classification\\venv\\Lib\\site-packages\\sklearn\\utils\\_repr_html\\estimator.py:489\u001b[39m, in \u001b[36mestimator_html_repr\u001b[39m\u001b[34m(estimator)\u001b[39m\n",
            "\u001b[31mFileNotFoundError\u001b[39m: [Errno 2] No such file or directory: 'c:\\\\Users\\\\nehap\\\\Downloads\\\\ANN Classification\\\\venv\\\\Lib\\\\site-packages\\\\sklearn\\\\utils\\\\_repr_html\\\\estimator.js'"
          ]
        },
        {
          "ename": "FileNotFoundError",
          "evalue": "[Errno 2] No such file or directory: 'c:\\\\Users\\\\nehap\\\\Downloads\\\\ANN Classification\\\\venv\\\\Lib\\\\site-packages\\\\sklearn\\\\utils\\\\_repr_html\\\\estimator.js'",
          "output_type": "error",
          "traceback": [
            "\u001b[31m---------------------------------------------------------------------------\u001b[39m",
            "\u001b[31mFileNotFoundError\u001b[39m                         Traceback (most recent call last)",
            "\u001b[36mFile \u001b[39m\u001b[32mc:\\Users\\nehap\\Downloads\\ANN Classification\\venv\\Lib\\site-packages\\IPython\\core\\formatters.py:406\u001b[39m, in \u001b[36mBaseFormatter.__call__\u001b[39m\u001b[34m(self, obj)\u001b[39m\n\u001b[32m    404\u001b[39m     method = get_real_method(obj, \u001b[38;5;28mself\u001b[39m.print_method)\n\u001b[32m    405\u001b[39m     \u001b[38;5;28;01mif\u001b[39;00m method \u001b[38;5;129;01mis\u001b[39;00m \u001b[38;5;129;01mnot\u001b[39;00m \u001b[38;5;28;01mNone\u001b[39;00m:\n\u001b[32m--> \u001b[39m\u001b[32m406\u001b[39m         \u001b[38;5;28;01mreturn\u001b[39;00m \u001b[43mmethod\u001b[49m\u001b[43m(\u001b[49m\u001b[43m)\u001b[49m\n\u001b[32m    407\u001b[39m     \u001b[38;5;28;01mreturn\u001b[39;00m \u001b[38;5;28;01mNone\u001b[39;00m\n\u001b[32m    408\u001b[39m \u001b[38;5;28;01melse\u001b[39;00m:\n",
            "\u001b[36mFile \u001b[39m\u001b[32mc:\\Users\\nehap\\Downloads\\ANN Classification\\venv\\Lib\\site-packages\\sklearn\\utils\\_repr_html\\base.py:145\u001b[39m, in \u001b[36m_repr_html_inner\u001b[39m\u001b[34m(self)\u001b[39m\n",
            "\u001b[36mFile \u001b[39m\u001b[32mc:\\Users\\nehap\\Downloads\\ANN Classification\\venv\\Lib\\site-packages\\sklearn\\utils\\_repr_html\\estimator.py:489\u001b[39m, in \u001b[36mestimator_html_repr\u001b[39m\u001b[34m(estimator)\u001b[39m\n",
            "\u001b[31mFileNotFoundError\u001b[39m: [Errno 2] No such file or directory: 'c:\\\\Users\\\\nehap\\\\Downloads\\\\ANN Classification\\\\venv\\\\Lib\\\\site-packages\\\\sklearn\\\\utils\\\\_repr_html\\\\estimator.js'"
          ]
        },
        {
          "data": {
            "text/plain": [
              "Pipeline(steps=[('preprocessor',\n",
              "                 ColumnTransformer(transformers=[('num', 'passthrough',\n",
              "                                                  ['num_lanes', 'curvature',\n",
              "                                                   'speed_limit',\n",
              "                                                   'num_reported_accidents']),\n",
              "                                                 ('cat',\n",
              "                                                  OrdinalEncoder(handle_unknown='use_encoded_value',\n",
              "                                                                 unknown_value=-1),\n",
              "                                                  ['road_type', 'lighting',\n",
              "                                                   'weather',\n",
              "                                                   'road_signs_present',\n",
              "                                                   'public_road', 'time_of_day',\n",
              "                                                   'holiday',\n",
              "                                                   'school_season'])])),\n",
              "                ('model',\n",
              "                 X...\n",
              "                              feature_types=None, feature_weights=None,\n",
              "                              gamma=None, grow_policy=None,\n",
              "                              importance_type=None,\n",
              "                              interaction_constraints=None, learning_rate=0.05,\n",
              "                              max_bin=None, max_cat_threshold=None,\n",
              "                              max_cat_to_onehot=None, max_delta_step=None,\n",
              "                              max_depth=6, max_leaves=None,\n",
              "                              min_child_weight=None, missing=nan,\n",
              "                              monotone_constraints=None, multi_strategy=None,\n",
              "                              n_estimators=200, n_jobs=-1,\n",
              "                              num_parallel_tree=None, ...))])"
            ]
          },
          "execution_count": 92,
          "metadata": {},
          "output_type": "execute_result"
        }
      ],
      "source": [
        "pipe.fit(X_train, y_train)"
      ]
    },
    {
      "cell_type": "code",
      "execution_count": 93,
      "metadata": {
        "colab": {
          "base_uri": "https://localhost:8080/"
        },
        "id": "ZKsBeS8jqmLn",
        "outputId": "24116fe6-5134-430c-fa01-1537dcc6f8ae"
      },
      "outputs": [
        {
          "data": {
            "text/plain": [
              "array([0.2916472 , 0.12454035, 0.18568146, ..., 0.2510809 , 0.1281955 ,\n",
              "       0.48758245], dtype=float32)"
            ]
          },
          "execution_count": 93,
          "metadata": {},
          "output_type": "execute_result"
        }
      ],
      "source": [
        "test_df = pd.read_csv('test.csv')\n",
        "\n",
        "pipe.predict(test_df)"
      ]
    },
    {
      "cell_type": "markdown",
      "metadata": {
        "id": "1cOB3w9its7s"
      },
      "source": [
        "### Predicting Test Values and Creating my_submission.csv file"
      ]
    },
    {
      "cell_type": "code",
      "execution_count": 94,
      "metadata": {
        "colab": {
          "base_uri": "https://localhost:8080/",
          "height": 424
        },
        "id": "jz0xlDhhqxkE",
        "outputId": "a31785e1-0cca-4fa2-f5f6-c388a2e16365"
      },
      "outputs": [
        {
          "data": {
            "text/html": [
              "<div>\n",
              "<style scoped>\n",
              "    .dataframe tbody tr th:only-of-type {\n",
              "        vertical-align: middle;\n",
              "    }\n",
              "\n",
              "    .dataframe tbody tr th {\n",
              "        vertical-align: top;\n",
              "    }\n",
              "\n",
              "    .dataframe thead th {\n",
              "        text-align: right;\n",
              "    }\n",
              "</style>\n",
              "<table border=\"1\" class=\"dataframe\">\n",
              "  <thead>\n",
              "    <tr style=\"text-align: right;\">\n",
              "      <th></th>\n",
              "      <th>id</th>\n",
              "      <th>accident_risk</th>\n",
              "    </tr>\n",
              "  </thead>\n",
              "  <tbody>\n",
              "    <tr>\n",
              "      <th>0</th>\n",
              "      <td>517754</td>\n",
              "      <td>0.291647</td>\n",
              "    </tr>\n",
              "    <tr>\n",
              "      <th>1</th>\n",
              "      <td>517755</td>\n",
              "      <td>0.124540</td>\n",
              "    </tr>\n",
              "    <tr>\n",
              "      <th>2</th>\n",
              "      <td>517756</td>\n",
              "      <td>0.185681</td>\n",
              "    </tr>\n",
              "    <tr>\n",
              "      <th>3</th>\n",
              "      <td>517757</td>\n",
              "      <td>0.328850</td>\n",
              "    </tr>\n",
              "    <tr>\n",
              "      <th>4</th>\n",
              "      <td>517758</td>\n",
              "      <td>0.402150</td>\n",
              "    </tr>\n",
              "    <tr>\n",
              "      <th>...</th>\n",
              "      <td>...</td>\n",
              "      <td>...</td>\n",
              "    </tr>\n",
              "    <tr>\n",
              "      <th>172580</th>\n",
              "      <td>690334</td>\n",
              "      <td>0.111212</td>\n",
              "    </tr>\n",
              "    <tr>\n",
              "      <th>172581</th>\n",
              "      <td>690335</td>\n",
              "      <td>0.518525</td>\n",
              "    </tr>\n",
              "    <tr>\n",
              "      <th>172582</th>\n",
              "      <td>690336</td>\n",
              "      <td>0.251081</td>\n",
              "    </tr>\n",
              "    <tr>\n",
              "      <th>172583</th>\n",
              "      <td>690337</td>\n",
              "      <td>0.128195</td>\n",
              "    </tr>\n",
              "    <tr>\n",
              "      <th>172584</th>\n",
              "      <td>690338</td>\n",
              "      <td>0.487582</td>\n",
              "    </tr>\n",
              "  </tbody>\n",
              "</table>\n",
              "<p>172585 rows × 2 columns</p>\n",
              "</div>"
            ],
            "text/plain": [
              "            id  accident_risk\n",
              "0       517754       0.291647\n",
              "1       517755       0.124540\n",
              "2       517756       0.185681\n",
              "3       517757       0.328850\n",
              "4       517758       0.402150\n",
              "...        ...            ...\n",
              "172580  690334       0.111212\n",
              "172581  690335       0.518525\n",
              "172582  690336       0.251081\n",
              "172583  690337       0.128195\n",
              "172584  690338       0.487582\n",
              "\n",
              "[172585 rows x 2 columns]"
            ]
          },
          "execution_count": 94,
          "metadata": {},
          "output_type": "execute_result"
        }
      ],
      "source": [
        "submission_df = pd.DataFrame({\n",
        "    'id': test_df['id'],\n",
        "    'accident_risk': pipe.predict(test_df)\n",
        "})\n",
        "\n",
        "submission_df"
      ]
    },
    {
      "cell_type": "code",
      "execution_count": null,
      "metadata": {},
      "outputs": [],
      "source": []
    }
  ],
  "metadata": {
    "colab": {
      "provenance": []
    },
    "kernelspec": {
      "display_name": "Python 3",
      "language": "python",
      "name": "python3"
    },
    "language_info": {
      "codemirror_mode": {
        "name": "ipython",
        "version": 3
      },
      "file_extension": ".py",
      "mimetype": "text/x-python",
      "name": "python",
      "nbconvert_exporter": "python",
      "pygments_lexer": "ipython3",
      "version": "3.11.0"
    }
  },
  "nbformat": 4,
  "nbformat_minor": 0
}
